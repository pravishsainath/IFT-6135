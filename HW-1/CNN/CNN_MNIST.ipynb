{
  "nbformat": 4,
  "nbformat_minor": 0,
  "metadata": {
    "colab": {
      "name": "ActualCNN_MNIST.ipynb",
      "version": "0.3.2",
      "provenance": [],
      "collapsed_sections": []
    },
    "kernelspec": {
      "name": "python3",
      "display_name": "Python 3"
    },
    "accelerator": "GPU"
  },
  "cells": [
    {
      "metadata": {
        "id": "sUo0Z5-4nEH9",
        "colab_type": "code",
        "colab": {}
      },
      "cell_type": "code",
      "source": [
        "# PyTorch imports\n",
        "\n",
        "import torch\n",
        "\n",
        "import torchvision\n",
        "from torchvision import transforms, utils, datasets\n",
        "\n",
        "import torch.nn as nn\n",
        "import torch.nn.functional as F\n",
        "import torch.optim as optim\n",
        "from torch.utils.data.sampler import SubsetRandomSampler\n",
        "\n",
        "\n",
        "# Numpy and matplotlib\n",
        "\n",
        "\n",
        "import numpy as np\n",
        "\n",
        "%matplotlib inline\n",
        "import matplotlib.pyplot as plt\n",
        "\n",
        "\n",
        "# For file operations\n",
        "import os\n",
        "\n",
        "# For logging metrics to csv file\n",
        "import pandas as pd"
      ],
      "execution_count": 0,
      "outputs": []
    },
    {
      "metadata": {
        "id": "CISpsmnKzpxK",
        "colab_type": "code",
        "outputId": "301c0ddf-b2b9-45d9-a70f-2e0b65ebe01a",
        "colab": {
          "base_uri": "https://localhost:8080/",
          "height": 122
        }
      },
      "cell_type": "code",
      "source": [
        "from google.colab import drive\n",
        "drive.mount('/content/gdrive')"
      ],
      "execution_count": 2,
      "outputs": [
        {
          "output_type": "stream",
          "text": [
            "Go to this URL in a browser: https://accounts.google.com/o/oauth2/auth?client_id=947318989803-6bn6qk8qdgf4n4g3pfee6491hc0brc4i.apps.googleusercontent.com&redirect_uri=urn%3Aietf%3Awg%3Aoauth%3A2.0%3Aoob&scope=email%20https%3A%2F%2Fwww.googleapis.com%2Fauth%2Fdocs.test%20https%3A%2F%2Fwww.googleapis.com%2Fauth%2Fdrive%20https%3A%2F%2Fwww.googleapis.com%2Fauth%2Fdrive.photos.readonly%20https%3A%2F%2Fwww.googleapis.com%2Fauth%2Fpeopleapi.readonly&response_type=code\n",
            "\n",
            "Enter your authorization code:\n",
            "··········\n",
            "Mounted at /content/gdrive\n"
          ],
          "name": "stdout"
        }
      ]
    },
    {
      "metadata": {
        "id": "meFHHRl7zuVB",
        "colab_type": "code",
        "colab": {}
      },
      "cell_type": "code",
      "source": [
        "DRIVE_DIRECTORY = '/content/gdrive/My Drive/Kaggle-IFT6135'\n",
        "DRIVE_PATH = DRIVE_DIRECTORY + '/%s'"
      ],
      "execution_count": 0,
      "outputs": []
    },
    {
      "metadata": {
        "id": "7LCqEtoiyed6",
        "colab_type": "code",
        "colab": {}
      },
      "cell_type": "code",
      "source": [
        "BATCH_SIZE = 128"
      ],
      "execution_count": 0,
      "outputs": []
    },
    {
      "metadata": {
        "id": "YNwmQdBVt6Do",
        "colab_type": "code",
        "colab": {}
      },
      "cell_type": "code",
      "source": [
        "def test_model(model):\n",
        "  x = torch.randn(128,1,28,28)\n",
        "  y = model(x)\n",
        "  print(y.size())"
      ],
      "execution_count": 0,
      "outputs": []
    },
    {
      "metadata": {
        "id": "6WL5idtLu4_3",
        "colab_type": "code",
        "colab": {}
      },
      "cell_type": "code",
      "source": [
        "def params(model):\n",
        "  print(sum(p.numel() for p in model.parameters()))"
      ],
      "execution_count": 0,
      "outputs": []
    },
    {
      "metadata": {
        "id": "FziLkpLP_LMQ",
        "colab_type": "code",
        "colab": {}
      },
      "cell_type": "code",
      "source": [
        "class MLP(nn.Module):\n",
        "    def __init__(self):\n",
        "        super(MLP, self).__init__()\n",
        "        self.fc1 = nn.Linear(28*28, 512)\n",
        "        self.fc2 = nn.Linear(512, 512)\n",
        "        self.fc3 = nn.Linear(512, 10)\n",
        "\n",
        "    def forward(self, x):\n",
        "        x = x.view(-1, 28*28)\n",
        "        x = F.relu(self.fc1(x))\n",
        "        x = F.relu(self.fc2(x))\n",
        "        x = self.fc3(x)\n",
        "        return x "
      ],
      "execution_count": 0,
      "outputs": []
    },
    {
      "metadata": {
        "colab_type": "code",
        "id": "GKMKiPvr_otG",
        "colab": {}
      },
      "cell_type": "code",
      "source": [
        "class CNN(nn.Module):\n",
        "  def __init__(self):\n",
        "    super(CNN, self).__init__()\n",
        "    \n",
        "    self.convnet = nn.Sequential(*[\n",
        "    nn.Conv2d(1, 32, kernel_size=3, padding=1),\n",
        "    nn.ReLU(inplace=True),\n",
        "    nn.MaxPool2d(kernel_size=2, stride=2),\n",
        "    nn.Conv2d(32, 64, kernel_size=3, padding=1),\n",
        "    nn.ReLU(inplace=True),\n",
        "    nn.MaxPool2d(kernel_size=2, stride=2),\n",
        "    nn.Conv2d(64, 64, kernel_size=3, padding=1),\n",
        "    nn.ReLU(inplace=True),\n",
        "    nn.MaxPool2d(kernel_size=2, stride=2),    \n",
        "    nn.Conv2d(64, 128, kernel_size=3, padding=1),\n",
        "    nn.ReLU(inplace=True),\n",
        "    nn.Conv2d(128, 128, kernel_size=3, padding=1),\n",
        "    nn.ReLU(inplace=True),\n",
        "    nn.MaxPool2d(kernel_size=2, stride=2),    \n",
        "    nn.Conv2d(128, 128, kernel_size=3, padding=1),\n",
        "    nn.ReLU(inplace=True),\n",
        "    nn.MaxPool2d(kernel_size=2, stride=2),        \n",
        "    nn.Conv2d(128, 208, kernel_size=3, padding=1),\n",
        "    nn.MaxPool2d(kernel_size=2, stride=2),\n",
        "    nn.AvgPool2d(kernel_size=1, stride=1)])\n",
        "\n",
        "    self.fc = nn.Linear(208, 10)\n",
        "    \n",
        "  def forward(self, x):\n",
        "    out = self.convnet(x)\n",
        "    out = out.view(out.size(0), -1)\n",
        "    out = self.fc(out)\n",
        "    return out"
      ],
      "execution_count": 0,
      "outputs": []
    },
    {
      "metadata": {
        "id": "vudxcsW1J5YU",
        "colab_type": "code",
        "outputId": "0adddb58-ff63-4455-c446-38436c998761",
        "colab": {
          "base_uri": "https://localhost:8080/",
          "height": 34
        }
      },
      "cell_type": "code",
      "source": [
        "params(MLP())"
      ],
      "execution_count": 23,
      "outputs": [
        {
          "output_type": "stream",
          "text": [
            "669706\n"
          ],
          "name": "stdout"
        }
      ]
    },
    {
      "metadata": {
        "id": "S3zXRBHV_qgL",
        "colab_type": "code",
        "colab": {
          "base_uri": "https://localhost:8080/",
          "height": 34
        },
        "outputId": "148b3c90-830c-4ec8-dfb7-0b2043ceca3e"
      },
      "cell_type": "code",
      "source": [
        "params(CNN())"
      ],
      "execution_count": 60,
      "outputs": [
        {
          "output_type": "stream",
          "text": [
            "667162\n"
          ],
          "name": "stdout"
        }
      ]
    },
    {
      "metadata": {
        "id": "oCNCplFywy-w",
        "colab_type": "code",
        "outputId": "23317570-9cb5-44e6-a132-b8d2adc26a20",
        "colab": {
          "base_uri": "https://localhost:8080/",
          "height": 51
        }
      },
      "cell_type": "code",
      "source": [
        "test_model(CNN())"
      ],
      "execution_count": 64,
      "outputs": [
        {
          "output_type": "stream",
          "text": [
            "torch.Size([128, 208, 1, 1])\n",
            "torch.Size([128, 10])\n"
          ],
          "name": "stdout"
        }
      ]
    },
    {
      "metadata": {
        "id": "R6vRUE7Iw5JH",
        "colab_type": "code",
        "colab": {}
      },
      "cell_type": "code",
      "source": [
        "def get_train_valid_loaders(batch_size=BATCH_SIZE, split_ratio = 5/6, transform = transforms.ToTensor(), shuffle = True):\n",
        " \n",
        "    train_dataset = datasets.MNIST(root=\".\", train=True, transform=transform, download=True)\n",
        "    test_dataset = datasets.MNIST(root=\".\", train=False, transform=transform, download=True)\n",
        "\n",
        "    num_samples = len(train_dataset)\n",
        "    indices = list(range(num_samples))\n",
        "    split_index = int(np.floor(split_ratio * num_samples))\n",
        "    \n",
        "    if shuffle:\n",
        "        np.random.seed(5)\n",
        "        np.random.shuffle(indices)\n",
        "\n",
        "    train_index, valid_index = indices[:split_index], indices[split_index:]\n",
        "    train_sampler = SubsetRandomSampler(train_index)\n",
        "    valid_sampler = SubsetRandomSampler(valid_index)\n",
        "    \n",
        "    train_loader = torch.utils.data.DataLoader(\n",
        "        train_dataset, batch_size=batch_size, sampler=train_sampler,\n",
        "        num_workers=1, pin_memory=True,\n",
        "    )\n",
        "    \n",
        "    valid_loader = torch.utils.data.DataLoader(\n",
        "        train_dataset, batch_size=batch_size, sampler=valid_sampler,\n",
        "        num_workers=1, pin_memory=True,\n",
        "    )\n",
        "    \n",
        "    print(\" Training set  : {} batches = {} samples\".format(len(train_loader),len(train_index)))\n",
        "    print(\"Validation set : {} batches = {} samples\".format(len(valid_loader),len(valid_index)))\n",
        "    \n",
        "    return train_loader, valid_loader   "
      ],
      "execution_count": 0,
      "outputs": []
    },
    {
      "metadata": {
        "id": "QPCJMcTGyc-K",
        "colab_type": "code",
        "colab": {}
      },
      "cell_type": "code",
      "source": [
        "device = torch.device(\"cuda:0\" if torch.cuda.is_available() else \"cpu\")"
      ],
      "execution_count": 0,
      "outputs": []
    },
    {
      "metadata": {
        "id": "kozFIui8y3nG",
        "colab_type": "code",
        "colab": {}
      },
      "cell_type": "code",
      "source": [
        "def evaluate_metrics(model,data_loader,criterion):\n",
        "  \n",
        "  correct = 0.\n",
        "  total = 0.\n",
        "  \n",
        "  loss = 0.\n",
        "  \n",
        "  model.eval()\n",
        "  with torch.no_grad():\n",
        "    for data in data_loader:\n",
        "      \n",
        "      images, labels = data\n",
        "      outputs = model(images.to(device))\n",
        "      \n",
        "      mini_batch_size = labels.size(0)\n",
        "      \n",
        "      loss += mini_batch_size * criterion(outputs, labels.to(device))\n",
        "                \n",
        "      _, predicted = torch.max(outputs.data, 1)\n",
        "      total += mini_batch_size\n",
        "      correct += (predicted == labels.to(device)).sum().item()\n",
        "      \n",
        "  loss = loss/total\n",
        "  accuracy = correct/total  \n",
        "  \n",
        "  return loss, accuracy"
      ],
      "execution_count": 0,
      "outputs": []
    },
    {
      "metadata": {
        "id": "7FMhx2k4zkXL",
        "colab_type": "code",
        "colab": {}
      },
      "cell_type": "code",
      "source": [
        "def train(experiment_name, train_loader, valid_loader, model, optimizer, criterion, num_epochs,start_epoch):\n",
        "        \n",
        "    torch.cuda.manual_seed(10)\n",
        "    \n",
        "    model = model.to(device)\n",
        "    criterion = criterion.to(device)\n",
        "    #optimizer = optim.SGD(model.parameters(), lr=0.001) \n",
        "    \n",
        "\n",
        "    train_accuracy = []\n",
        "    valid_accuracy = []\n",
        "    train_loss = []\n",
        "    valid_loss = []\n",
        "    \n",
        "    state_buffer = []\n",
        "    \n",
        "    print(\"Training for epochs #\", num_epochs)\n",
        "    \n",
        "    for epoch in range(start_epoch,start_epoch + num_epochs):\n",
        "\n",
        "      # Training set    \n",
        "            \n",
        "        model.train()\n",
        "        for i, data in enumerate(train_loader, 0):\n",
        "            \n",
        "            inputs, labels = data\n",
        "            optimizer.zero_grad()\n",
        "            \n",
        "            \n",
        "            \n",
        "            outputs = model(inputs.to(device))\n",
        "            \n",
        "            loss = criterion(outputs, labels.to(device))\n",
        "            loss.backward()\n",
        "            optimizer.step()\n",
        "            \n",
        "            \n",
        "        loss_metric, accuracy_metric = evaluate_metrics(model,train_loader,criterion)\n",
        "        \n",
        "        train_accuracy.append(accuracy_metric)\n",
        "        train_loss.append(loss_metric)\n",
        "        \n",
        "        # Validation set \n",
        "        \n",
        "        loss_metric, accuracy_metric = evaluate_metrics(model,valid_loader,criterion)\n",
        "        \n",
        "                \n",
        "        valid_accuracy.append(accuracy_metric)\n",
        "        valid_loss.append(loss_metric)\n",
        "        \n",
        "        \n",
        "        print(\"======================================================================\")\n",
        "        print('Epoch:', epoch)\n",
        "        print(' Training  :: Accuracy = %.4f, Loss = %.6f' % (train_accuracy[-1]*100, train_loss[-1]))\n",
        "        print('Validation :: Accuracy = %.4f, Loss = %.6f' % (valid_accuracy[-1]*100, valid_loss[-1]))\n",
        "        \n",
        "        state = {\n",
        "           \"epoch\" : epoch,\n",
        "           \"train_accuracy\" : train_accuracy[-1]*100,\n",
        "           \"valid_accuracy\" : valid_accuracy[-1]*100,\n",
        "           \"train_loss\" : train_loss[-1],\n",
        "           \"valid_loss\" : valid_loss[-1],            \n",
        "        }\n",
        "        \n",
        "        state_buffer.append(state)\n",
        "        \n",
        "        if epoch%5 == 0 or epoch == num_epochs-1 :\n",
        "          path = os.path.join(\"{}/models/{}\".format(DRIVE_DIRECTORY,experiment_name), \"{}-e{}.pth\".format(experiment_name,epoch))\n",
        "          torch.save(model.state_dict(), path)\n",
        "          \n",
        "          df = pd.DataFrame(state_buffer)\n",
        "          \n",
        "          state_file_name = '{}/results/{}.csv'.format(DRIVE_DIRECTORY,experiment_name)\n",
        "          \n",
        "          if not os.path.isfile(state_file_name):\n",
        "            df.to_csv(state_file_name, index = False)\n",
        "          else: \n",
        "            df.to_csv(state_file_name, mode='a', header=False, index = False)\n",
        "                      \n",
        "          state_buffer.clear()\n",
        "          \n",
        "        \n",
        "    return model #, train_accuracy, train_loss, valid_accuracy, valid_loss   "
      ],
      "execution_count": 0,
      "outputs": []
    },
    {
      "metadata": {
        "id": "G9Kn-CkNzmM3",
        "colab_type": "code",
        "colab": {}
      },
      "cell_type": "code",
      "source": [
        "def run_experiment(name, learning_rate, num_epochs, model, batch_size = BATCH_SIZE,start_epoch=0):\n",
        "  \n",
        "  experiment_name = \"%s[lr=%.3f][e=%d][b=%d]\" % (name,learning_rate,num_epochs,batch_size)\n",
        "  \n",
        "  print(\"Running experiment : \",experiment_name)\n",
        "  \n",
        "  model_directory_name = \"{}/models/{}\".format(DRIVE_DIRECTORY,experiment_name)\n",
        "  \n",
        "  if not os.path.exists(model_directory_name):\n",
        "        os.mkdir(model_directory_name)\n",
        "  \n",
        "  train_loader, valid_loader = get_train_valid_loaders(batch_size = batch_size)\n",
        "  \n",
        "  criterion = nn.CrossEntropyLoss()\n",
        "  optimizer = optim.SGD(model.parameters(), lr=learning_rate)     \n",
        "  \n",
        "  model = train(experiment_name, train_loader, valid_loader, model, optimizer, criterion, num_epochs,start_epoch)\n",
        "\n",
        "  return model"
      ],
      "execution_count": 0,
      "outputs": []
    },
    {
      "metadata": {
        "id": "zpQnDVe3V_TH",
        "colab_type": "code",
        "outputId": "c77d5235-050d-43c7-bde0-45f4039a05bb",
        "colab": {
          "base_uri": "https://localhost:8080/",
          "height": 3485
        }
      },
      "cell_type": "code",
      "source": [
        "model = run_experiment(\"CNN\",0.1,50,CNN())"
      ],
      "execution_count": 72,
      "outputs": [
        {
          "output_type": "stream",
          "text": [
            "Running experiment :  CNN[lr=0.100][e=50][b=128]\n",
            " Training set  : 391 batches = 50000 samples\n",
            "Validation set : 79 batches = 10000 samples\n",
            "Training for epochs # 50\n",
            "======================================================================\n",
            "Epoch: 0\n",
            " Training  :: Accuracy = 11.1980, Loss = 2.301305\n",
            "Validation :: Accuracy = 11.4300, Loss = 2.301816\n",
            "======================================================================\n",
            "Epoch: 1\n",
            " Training  :: Accuracy = 11.1980, Loss = 2.301283\n",
            "Validation :: Accuracy = 11.4300, Loss = 2.301444\n",
            "======================================================================\n",
            "Epoch: 2\n",
            " Training  :: Accuracy = 11.1980, Loss = 2.301166\n",
            "Validation :: Accuracy = 11.4300, Loss = 2.301195\n",
            "======================================================================\n",
            "Epoch: 3\n",
            " Training  :: Accuracy = 11.1980, Loss = 2.301083\n",
            "Validation :: Accuracy = 11.4300, Loss = 2.301383\n",
            "======================================================================\n",
            "Epoch: 4\n",
            " Training  :: Accuracy = 11.1980, Loss = 2.300903\n",
            "Validation :: Accuracy = 11.4300, Loss = 2.301342\n",
            "======================================================================\n",
            "Epoch: 5\n",
            " Training  :: Accuracy = 11.1980, Loss = 2.300483\n",
            "Validation :: Accuracy = 11.4300, Loss = 2.301093\n",
            "======================================================================\n",
            "Epoch: 6\n",
            " Training  :: Accuracy = 24.1860, Loss = 2.273721\n",
            "Validation :: Accuracy = 24.2100, Loss = 2.273932\n",
            "======================================================================\n",
            "Epoch: 7\n",
            " Training  :: Accuracy = 71.3780, Loss = 0.862056\n",
            "Validation :: Accuracy = 70.4500, Loss = 0.884742\n",
            "======================================================================\n",
            "Epoch: 8\n",
            " Training  :: Accuracy = 95.2440, Loss = 0.169838\n",
            "Validation :: Accuracy = 94.8700, Loss = 0.188696\n",
            "======================================================================\n",
            "Epoch: 9\n",
            " Training  :: Accuracy = 96.1840, Loss = 0.129048\n",
            "Validation :: Accuracy = 95.9900, Loss = 0.145671\n",
            "======================================================================\n",
            "Epoch: 10\n",
            " Training  :: Accuracy = 98.3480, Loss = 0.054498\n",
            "Validation :: Accuracy = 97.9400, Loss = 0.074173\n",
            "======================================================================\n",
            "Epoch: 11\n",
            " Training  :: Accuracy = 98.6240, Loss = 0.046606\n",
            "Validation :: Accuracy = 98.1400, Loss = 0.069702\n",
            "======================================================================\n",
            "Epoch: 12\n",
            " Training  :: Accuracy = 96.6900, Loss = 0.131822\n",
            "Validation :: Accuracy = 96.1500, Loss = 0.165024\n",
            "======================================================================\n",
            "Epoch: 13\n",
            " Training  :: Accuracy = 99.0880, Loss = 0.028636\n",
            "Validation :: Accuracy = 98.6000, Loss = 0.056936\n",
            "======================================================================\n",
            "Epoch: 14\n",
            " Training  :: Accuracy = 99.3000, Loss = 0.022975\n",
            "Validation :: Accuracy = 98.6800, Loss = 0.049752\n",
            "======================================================================\n",
            "Epoch: 15\n",
            " Training  :: Accuracy = 98.8480, Loss = 0.038243\n",
            "Validation :: Accuracy = 98.2900, Loss = 0.073753\n",
            "======================================================================\n",
            "Epoch: 16\n",
            " Training  :: Accuracy = 99.6600, Loss = 0.011861\n",
            "Validation :: Accuracy = 98.8500, Loss = 0.048858\n",
            "======================================================================\n",
            "Epoch: 17\n",
            " Training  :: Accuracy = 99.1760, Loss = 0.024150\n",
            "Validation :: Accuracy = 98.4700, Loss = 0.069198\n",
            "======================================================================\n",
            "Epoch: 18\n",
            " Training  :: Accuracy = 99.3280, Loss = 0.020694\n",
            "Validation :: Accuracy = 98.5500, Loss = 0.063745\n",
            "======================================================================\n",
            "Epoch: 19\n",
            " Training  :: Accuracy = 99.7240, Loss = 0.008705\n",
            "Validation :: Accuracy = 98.8200, Loss = 0.056135\n",
            "======================================================================\n",
            "Epoch: 20\n",
            " Training  :: Accuracy = 99.8440, Loss = 0.005354\n",
            "Validation :: Accuracy = 98.8900, Loss = 0.054293\n",
            "======================================================================\n",
            "Epoch: 21\n",
            " Training  :: Accuracy = 99.5960, Loss = 0.013408\n",
            "Validation :: Accuracy = 98.6800, Loss = 0.060089\n",
            "======================================================================\n",
            "Epoch: 22\n",
            " Training  :: Accuracy = 99.8940, Loss = 0.003710\n",
            "Validation :: Accuracy = 99.0300, Loss = 0.055105\n",
            "======================================================================\n",
            "Epoch: 23\n",
            " Training  :: Accuracy = 99.8920, Loss = 0.003628\n",
            "Validation :: Accuracy = 98.9700, Loss = 0.054785\n",
            "======================================================================\n",
            "Epoch: 24\n",
            " Training  :: Accuracy = 99.8720, Loss = 0.004528\n",
            "Validation :: Accuracy = 98.9200, Loss = 0.057121\n",
            "======================================================================\n",
            "Epoch: 25\n",
            " Training  :: Accuracy = 99.6720, Loss = 0.009707\n",
            "Validation :: Accuracy = 98.8300, Loss = 0.067914\n",
            "======================================================================\n",
            "Epoch: 26\n",
            " Training  :: Accuracy = 99.9540, Loss = 0.001856\n",
            "Validation :: Accuracy = 99.0200, Loss = 0.060758\n",
            "======================================================================\n",
            "Epoch: 27\n",
            " Training  :: Accuracy = 99.9840, Loss = 0.000980\n",
            "Validation :: Accuracy = 99.0400, Loss = 0.061659\n",
            "======================================================================\n",
            "Epoch: 28\n",
            " Training  :: Accuracy = 99.5240, Loss = 0.014842\n",
            "Validation :: Accuracy = 98.5500, Loss = 0.086420\n",
            "======================================================================\n",
            "Epoch: 29\n",
            " Training  :: Accuracy = 99.9800, Loss = 0.000920\n",
            "Validation :: Accuracy = 99.0100, Loss = 0.068293\n",
            "======================================================================\n",
            "Epoch: 30\n",
            " Training  :: Accuracy = 99.9900, Loss = 0.000481\n",
            "Validation :: Accuracy = 99.0200, Loss = 0.066856\n",
            "======================================================================\n",
            "Epoch: 31\n",
            " Training  :: Accuracy = 100.0000, Loss = 0.000257\n",
            "Validation :: Accuracy = 99.0400, Loss = 0.063892\n",
            "======================================================================\n",
            "Epoch: 32\n",
            " Training  :: Accuracy = 100.0000, Loss = 0.000236\n",
            "Validation :: Accuracy = 99.0600, Loss = 0.063777\n",
            "======================================================================\n",
            "Epoch: 33\n",
            " Training  :: Accuracy = 100.0000, Loss = 0.000220\n",
            "Validation :: Accuracy = 99.0900, Loss = 0.064190\n",
            "======================================================================\n",
            "Epoch: 34\n",
            " Training  :: Accuracy = 100.0000, Loss = 0.000213\n",
            "Validation :: Accuracy = 99.0800, Loss = 0.064725\n",
            "======================================================================\n",
            "Epoch: 35\n",
            " Training  :: Accuracy = 100.0000, Loss = 0.000201\n",
            "Validation :: Accuracy = 99.0800, Loss = 0.064829\n",
            "======================================================================\n",
            "Epoch: 36\n",
            " Training  :: Accuracy = 100.0000, Loss = 0.000193\n",
            "Validation :: Accuracy = 99.0700, Loss = 0.065117\n",
            "======================================================================\n",
            "Epoch: 37\n",
            " Training  :: Accuracy = 100.0000, Loss = 0.000186\n",
            "Validation :: Accuracy = 99.0600, Loss = 0.065322\n",
            "======================================================================\n",
            "Epoch: 38\n",
            " Training  :: Accuracy = 100.0000, Loss = 0.000181\n",
            "Validation :: Accuracy = 99.0800, Loss = 0.065784\n",
            "======================================================================\n",
            "Epoch: 39\n",
            " Training  :: Accuracy = 100.0000, Loss = 0.000175\n",
            "Validation :: Accuracy = 99.0600, Loss = 0.065921\n",
            "======================================================================\n",
            "Epoch: 40\n",
            " Training  :: Accuracy = 100.0000, Loss = 0.000171\n",
            "Validation :: Accuracy = 99.0600, Loss = 0.066282\n",
            "======================================================================\n",
            "Epoch: 41\n",
            " Training  :: Accuracy = 100.0000, Loss = 0.000167\n",
            "Validation :: Accuracy = 99.0500, Loss = 0.066454\n",
            "======================================================================\n",
            "Epoch: 42\n",
            " Training  :: Accuracy = 100.0000, Loss = 0.000162\n",
            "Validation :: Accuracy = 99.0600, Loss = 0.066861\n",
            "======================================================================\n",
            "Epoch: 43\n",
            " Training  :: Accuracy = 100.0000, Loss = 0.000159\n",
            "Validation :: Accuracy = 99.0500, Loss = 0.067050\n",
            "======================================================================\n",
            "Epoch: 44\n",
            " Training  :: Accuracy = 100.0000, Loss = 0.000156\n",
            "Validation :: Accuracy = 99.0800, Loss = 0.067410\n",
            "======================================================================\n",
            "Epoch: 45\n",
            " Training  :: Accuracy = 100.0000, Loss = 0.000152\n",
            "Validation :: Accuracy = 99.0800, Loss = 0.067477\n",
            "======================================================================\n",
            "Epoch: 46\n",
            " Training  :: Accuracy = 100.0000, Loss = 0.000149\n",
            "Validation :: Accuracy = 99.0800, Loss = 0.067709\n",
            "======================================================================\n",
            "Epoch: 47\n",
            " Training  :: Accuracy = 100.0000, Loss = 0.000146\n",
            "Validation :: Accuracy = 99.0700, Loss = 0.067845\n",
            "======================================================================\n",
            "Epoch: 48\n",
            " Training  :: Accuracy = 100.0000, Loss = 0.000143\n",
            "Validation :: Accuracy = 99.0900, Loss = 0.068115\n",
            "======================================================================\n",
            "Epoch: 49\n",
            " Training  :: Accuracy = 100.0000, Loss = 0.000140\n",
            "Validation :: Accuracy = 99.0900, Loss = 0.068350\n"
          ],
          "name": "stdout"
        }
      ]
    }
  ]
}